{
 "cells": [
  {
   "cell_type": "markdown",
   "id": "9d47e0c5-bf8d-47cc-928a-a816abc0bb51",
   "metadata": {},
   "source": [
    "This will gonna be my blackjack program!"
   ]
  },
  {
   "cell_type": "code",
   "execution_count": null,
   "id": "f574bd43-6f6b-42f8-8c81-7ae542174aa5",
   "metadata": {},
   "outputs": [],
   "source": []
  }
 ],
 "metadata": {
  "kernelspec": {
   "display_name": "Python 3 (ipykernel)",
   "language": "python",
   "name": "python3"
  },
  "language_info": {
   "codemirror_mode": {
    "name": "ipython",
    "version": 3
   },
   "file_extension": ".py",
   "mimetype": "text/x-python",
   "name": "python",
   "nbconvert_exporter": "python",
   "pygments_lexer": "ipython3",
   "version": "3.9.12"
  }
 },
 "nbformat": 4,
 "nbformat_minor": 5
}
