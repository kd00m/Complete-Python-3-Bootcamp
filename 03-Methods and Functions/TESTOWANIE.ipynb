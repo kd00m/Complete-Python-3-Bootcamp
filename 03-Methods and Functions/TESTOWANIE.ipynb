{
 "cells": [
  {
   "cell_type": "markdown",
   "id": "7ec02161",
   "metadata": {},
   "source": [
    "Define a function called myfunc that takes in a string, and returns a matching string where every even letter is uppercase, and every odd letter is lowercase. Assume that the incoming string only contains letters, and don't worry about numbers, spaces or punctuation. The output string can start with either an uppercase or lowercase letter, so long as letters alternate throughout the string."
   ]
  },
  {
   "cell_type": "code",
   "execution_count": 19,
   "id": "4fd544e9",
   "metadata": {},
   "outputs": [],
   "source": [
    "def myfunc(word = 'abrakadabra'):\n",
    "    new_word = ''\n",
    "    for i in range(len(word)):\n",
    "        if i%2 != 0:\n",
    "            new_word += word[i].upper()\n",
    "        else:\n",
    "            new_word += word[i].lower()\n",
    "    return new_word"
   ]
  }
 ],
 "metadata": {
  "kernelspec": {
   "display_name": "Python 3 (ipykernel)",
   "language": "python",
   "name": "python3"
  },
  "language_info": {
   "codemirror_mode": {
    "name": "ipython",
    "version": 3
   },
   "file_extension": ".py",
   "mimetype": "text/x-python",
   "name": "python",
   "nbconvert_exporter": "python",
   "pygments_lexer": "ipython3",
   "version": "3.9.12"
  }
 },
 "nbformat": 4,
 "nbformat_minor": 5
}
