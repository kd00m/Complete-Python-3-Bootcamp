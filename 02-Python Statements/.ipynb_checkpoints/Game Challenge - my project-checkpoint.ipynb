{
 "cells": [
  {
   "cell_type": "code",
   "execution_count": null,
   "id": "95c944fa",
   "metadata": {},
   "outputs": [],
   "source": [
    "# importing random number\n",
    "import random\n",
    "guess_num = random.randint(1,100)"
   ]
  },
  {
   "cell_type": "code",
   "execution_count": null,
   "id": "59c708de",
   "metadata": {},
   "outputs": [],
   "source": [
    "# first stuff, variables\n",
    "print(f'The number is {guess_num}')\n",
    "answers = []"
   ]
  },
  {
   "cell_type": "code",
   "execution_count": null,
   "id": "258633b9",
   "metadata": {},
   "outputs": [],
   "source": [
    "# first guess\n",
    "int_answer = int(input('Guess the number in range 1 to 100 \\n'))\n",
    "answers.append(int_answer)\n",
    "if int_answer == guess_num:\n",
    "    print(\"You have guessed the number with first shot!\")\n",
    "elif int_answer < 1 or int_answer > 100:\n",
    "    print('OUT OF BOUNDS')\n",
    "elif abs(int_answer - guess_num) <= 10:\n",
    "    print(\"WARM\")\n",
    "elif abs(int_answer - guess_num) > 10:\n",
    "    print(\"COLD\")"
   ]
  },
  {
   "cell_type": "code",
   "execution_count": null,
   "id": "54abfb26",
   "metadata": {},
   "outputs": [],
   "source": [
    "# loop for next guessing\n",
    "if int_answer != guess_num:\n",
    "    while int_answer != guess_num:\n",
    "        int_answer = int(input())\n",
    "        answers.append(int_answer)\n",
    "        if int_answer == guess_num:\n",
    "            print(f\"\\n\\tYou have guessed the number!\\n\\tYou tried {len(answers)} times!\")\n",
    "            break\n",
    "        if int_answer < 1 or int_answer > 100:\n",
    "            print('OUT OF BOUNDS')\n",
    "        else:\n",
    "            if  abs(answers[-2] - guess_num) < abs(int_answer - guess_num) :\n",
    "                print(\"COLDER\")\n",
    "            else:\n",
    "                print(\"WARMER\")"
   ]
  }
 ],
 "metadata": {
  "kernelspec": {
   "display_name": "Python 3 (ipykernel)",
   "language": "python",
   "name": "python3"
  },
  "language_info": {
   "codemirror_mode": {
    "name": "ipython",
    "version": 3
   },
   "file_extension": ".py",
   "mimetype": "text/x-python",
   "name": "python",
   "nbconvert_exporter": "python",
   "pygments_lexer": "ipython3",
   "version": "3.9.12"
  }
 },
 "nbformat": 4,
 "nbformat_minor": 5
}
